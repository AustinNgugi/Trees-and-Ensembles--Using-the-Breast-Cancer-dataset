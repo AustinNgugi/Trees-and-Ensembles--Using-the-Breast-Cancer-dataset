{
 "cells": [
  {
   "cell_type": "code",
   "execution_count": null,
   "id": "d4db87a4",
   "metadata": {},
   "outputs": [],
   "source": [
    "from sklearn.datasets import load_breast_cancer\n",
    "from sklearn.model_selection import train_test_split\n",
    "from sklearn.tree import DecisionTreeClassifier\n",
    "from sklearn.ensemble import RandomForestClassifier\n",
    "from sklearn.metrics import accuracy_score\n",
    "\n",
    "# Load the dataset\n",
    "data = load_breast_cancer()\n",
    "X = data.data\n",
    "y = data.target\n",
    "\n",
    "# Split the data into training and testing sets\n",
    "X_train, X_test, y_train, y_test = train_test_split(X, y, test_size=0.2, random_state=42)\n",
    "\n",
    "# Train Decision Tree\n",
    "dt_model = DecisionTreeClassifier(random_state=42)\n",
    "dt_model.fit(X_train, y_train)\n",
    "dt_pred = dt_model.predict(X_test)\n",
    "dt_accuracy = accuracy_score(y_test, dt_pred)\n",
    "dt_importance = dt_model.feature_importances_\n",
    "\n",
    "# Train Random Forest\n",
    "rf_model = RandomForestClassifier(n_estimators=100, random_state=42)\n",
    "rf_model.fit(X_train, y_train)\n",
    "rf_pred = rf_model.predict(X_test)\n",
    "rf_accuracy = accuracy_score(y_test, rf_pred)\n",
    "rf_importance = rf_model.feature_importances_\n",
    "\n",
    "# Print results\n",
    "print(\"Decision Tree Accuracy:\", dt_accuracy)\n",
    "print(\"Decision Tree Feature Importance:\", dt_importance)\n",
    "print(\"Random Forest Accuracy:\", rf_accuracy)\n",
    "print(\"Random Forest Feature Importance:\", rf_importance)\n",
    "\n",
    "# Optional: Print feature names with importance (top 5 for each)\n",
    "feature_names = data.feature_names\n",
    "dt_importance_dict = dict(zip(feature_names, dt_importance))\n",
    "rf_importance_dict = dict(zip(feature_names, rf_importance))\n",
    "sorted_dt = sorted(dt_importance_dict.items(), key=lambda x: x[1], reverse=True)[:5]\n",
    "sorted_rf = sorted(rf_importance_dict.items(), key=lambda x: x[1], reverse=True)[:5]\n",
    "print(\"Top 5 Decision Tree Features:\", sorted_dt)\n",
    "print(\"Top 5 Random Forest Features:\", sorted_rf)"
   ]
  }
 ],
 "metadata": {
  "language_info": {
   "name": "python"
  }
 },
 "nbformat": 4,
 "nbformat_minor": 5
}
